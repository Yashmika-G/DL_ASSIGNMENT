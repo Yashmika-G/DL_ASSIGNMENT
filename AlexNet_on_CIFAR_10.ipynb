{
  "cells": [
    {
      "cell_type": "code",
      "execution_count": 1,
      "metadata": {
        "colab": {
          "base_uri": "https://localhost:8080/"
        },
        "id": "wNjTq8VRLkh2",
        "outputId": "34a41bf0-5f7d-496b-ae7c-f777bcf35763"
      },
      "outputs": [
        {
          "output_type": "stream",
          "name": "stdout",
          "text": [
            "Requirement already satisfied: torch in /usr/local/lib/python3.10/dist-packages (2.4.1+cu121)\n",
            "Requirement already satisfied: torchvision in /usr/local/lib/python3.10/dist-packages (0.19.1+cu121)\n",
            "Requirement already satisfied: filelock in /usr/local/lib/python3.10/dist-packages (from torch) (3.16.1)\n",
            "Requirement already satisfied: typing-extensions>=4.8.0 in /usr/local/lib/python3.10/dist-packages (from torch) (4.12.2)\n",
            "Requirement already satisfied: sympy in /usr/local/lib/python3.10/dist-packages (from torch) (1.13.3)\n",
            "Requirement already satisfied: networkx in /usr/local/lib/python3.10/dist-packages (from torch) (3.3)\n",
            "Requirement already satisfied: jinja2 in /usr/local/lib/python3.10/dist-packages (from torch) (3.1.4)\n",
            "Requirement already satisfied: fsspec in /usr/local/lib/python3.10/dist-packages (from torch) (2024.6.1)\n",
            "Requirement already satisfied: numpy in /usr/local/lib/python3.10/dist-packages (from torchvision) (1.26.4)\n",
            "Requirement already satisfied: pillow!=8.3.*,>=5.3.0 in /usr/local/lib/python3.10/dist-packages (from torchvision) (10.4.0)\n",
            "Requirement already satisfied: MarkupSafe>=2.0 in /usr/local/lib/python3.10/dist-packages (from jinja2->torch) (2.1.5)\n",
            "Requirement already satisfied: mpmath<1.4,>=1.1.0 in /usr/local/lib/python3.10/dist-packages (from sympy->torch) (1.3.0)\n"
          ]
        }
      ],
      "source": [
        "pip install torch torchvision\n"
      ]
    },
    {
      "cell_type": "code",
      "execution_count": 2,
      "metadata": {
        "colab": {
          "base_uri": "https://localhost:8080/"
        },
        "id": "J_xqSr0MNvRU",
        "outputId": "24023f08-9d56-4bc9-d344-6e30a9e4d0d6"
      },
      "outputs": [
        {
          "output_type": "stream",
          "name": "stdout",
          "text": [
            "Downloading https://www.cs.toronto.edu/~kriz/cifar-10-python.tar.gz to ./data/cifar-10-python.tar.gz\n"
          ]
        },
        {
          "output_type": "stream",
          "name": "stderr",
          "text": [
            "100%|██████████| 170498071/170498071 [00:05<00:00, 30485708.87it/s]\n"
          ]
        },
        {
          "output_type": "stream",
          "name": "stdout",
          "text": [
            "Extracting ./data/cifar-10-python.tar.gz to ./data\n",
            "Files already downloaded and verified\n"
          ]
        }
      ],
      "source": [
        "import torch\n",
        "import torchvision\n",
        "import torchvision.transforms as transforms\n",
        "\n",
        "transform = transforms.Compose([\n",
        "    transforms.Resize((224, 224)),\n",
        "    transforms.ToTensor(),\n",
        "])\n",
        "transforms.Normalize((0.5, 0.5, 0.5), (0.5, 0.5, 0.5))\n",
        "\n",
        "trainset = torchvision.datasets.CIFAR10(root='./data', train=True, download=True, transform=transform)\n",
        "trainloader = torch.utils.data.DataLoader(trainset, batch_size=64, shuffle=True, num_workers=2)\n",
        "\n",
        "testset = torchvision.datasets.CIFAR10(root='./data', train=False, download=True, transform=transform)\n",
        "testloader = torch.utils.data.DataLoader(testset, batch_size=64, shuffle=False, num_workers=2)\n",
        "\n",
        "classes = ('plane', 'car', 'bird', 'cat', 'deer', 'dog', 'frog', 'horse', 'ship', 'truck')\n"
      ]
    },
    {
      "cell_type": "code",
      "execution_count": 3,
      "metadata": {
        "colab": {
          "base_uri": "https://localhost:8080/"
        },
        "id": "j9rwlRgwOUdL",
        "outputId": "3bcc2eae-dcdd-421b-83e1-b4d97794a0a7"
      },
      "outputs": [
        {
          "output_type": "stream",
          "name": "stderr",
          "text": [
            "/usr/local/lib/python3.10/dist-packages/torchvision/models/_utils.py:208: UserWarning: The parameter 'pretrained' is deprecated since 0.13 and may be removed in the future, please use 'weights' instead.\n",
            "  warnings.warn(\n",
            "/usr/local/lib/python3.10/dist-packages/torchvision/models/_utils.py:223: UserWarning: Arguments other than a weight enum or `None` for 'weights' are deprecated since 0.13 and may be removed in the future. The current behavior is equivalent to passing `weights=AlexNet_Weights.IMAGENET1K_V1`. You can also use `weights=AlexNet_Weights.DEFAULT` to get the most up-to-date weights.\n",
            "  warnings.warn(msg)\n",
            "Downloading: \"https://download.pytorch.org/models/alexnet-owt-7be5be79.pth\" to /root/.cache/torch/hub/checkpoints/alexnet-owt-7be5be79.pth\n",
            "100%|██████████| 233M/233M [00:02<00:00, 108MB/s]\n"
          ]
        },
        {
          "output_type": "execute_result",
          "data": {
            "text/plain": [
              "AlexNet(\n",
              "  (features): Sequential(\n",
              "    (0): Conv2d(3, 64, kernel_size=(11, 11), stride=(4, 4), padding=(2, 2))\n",
              "    (1): ReLU(inplace=True)\n",
              "    (2): MaxPool2d(kernel_size=3, stride=2, padding=0, dilation=1, ceil_mode=False)\n",
              "    (3): Conv2d(64, 192, kernel_size=(5, 5), stride=(1, 1), padding=(2, 2))\n",
              "    (4): ReLU(inplace=True)\n",
              "    (5): MaxPool2d(kernel_size=3, stride=2, padding=0, dilation=1, ceil_mode=False)\n",
              "    (6): Conv2d(192, 384, kernel_size=(3, 3), stride=(1, 1), padding=(1, 1))\n",
              "    (7): ReLU(inplace=True)\n",
              "    (8): Conv2d(384, 256, kernel_size=(3, 3), stride=(1, 1), padding=(1, 1))\n",
              "    (9): ReLU(inplace=True)\n",
              "    (10): Conv2d(256, 256, kernel_size=(3, 3), stride=(1, 1), padding=(1, 1))\n",
              "    (11): ReLU(inplace=True)\n",
              "    (12): MaxPool2d(kernel_size=3, stride=2, padding=0, dilation=1, ceil_mode=False)\n",
              "  )\n",
              "  (avgpool): AdaptiveAvgPool2d(output_size=(6, 6))\n",
              "  (classifier): Sequential(\n",
              "    (0): Dropout(p=0.5, inplace=False)\n",
              "    (1): Linear(in_features=9216, out_features=4096, bias=True)\n",
              "    (2): ReLU(inplace=True)\n",
              "    (3): Dropout(p=0.5, inplace=False)\n",
              "    (4): Linear(in_features=4096, out_features=4096, bias=True)\n",
              "    (5): ReLU(inplace=True)\n",
              "    (6): Linear(in_features=4096, out_features=10, bias=True)\n",
              "  )\n",
              ")"
            ]
          },
          "metadata": {},
          "execution_count": 3
        }
      ],
      "source": [
        "import torch.nn as nn\n",
        "import torchvision.models as models\n",
        "\n",
        "alexnet = models.alexnet(pretrained=True)\n",
        "alexnet.classifier[6] = nn.Linear(4096, 10)\n",
        "device = torch.device(\"cuda\" if torch.cuda.is_available() else \"cpu\")\n",
        "alexnet.to(device)\n"
      ]
    },
    {
      "cell_type": "code",
      "execution_count": 4,
      "metadata": {
        "id": "uXQuey5VOZP3"
      },
      "outputs": [],
      "source": [
        "import torch.optim as optim\n",
        "criterion = nn.CrossEntropyLoss()\n",
        "optimizer = optim.SGD(alexnet.parameters(), lr=0.001, momentum=0.9, weight_decay=0.0005)\n"
      ]
    },
    {
      "cell_type": "code",
      "execution_count": 5,
      "metadata": {
        "id": "EjLR4TPOOc5m",
        "colab": {
          "base_uri": "https://localhost:8080/"
        },
        "outputId": "ed28299d-6ce7-4761-f6a1-abc866108b8b"
      },
      "outputs": [
        {
          "output_type": "stream",
          "name": "stdout",
          "text": [
            "Epoch [1], Batch [100], Loss: 1.4621\n",
            "Epoch [1], Batch [200], Loss: 0.9518\n",
            "Epoch [1], Batch [300], Loss: 0.8430\n",
            "Epoch [1], Batch [400], Loss: 0.7568\n",
            "Epoch [1], Batch [500], Loss: 0.7119\n",
            "Epoch [1], Batch [600], Loss: 0.6496\n",
            "Epoch [1], Batch [700], Loss: 0.6288\n",
            "Epoch [2], Batch [100], Loss: 0.5540\n",
            "Epoch [2], Batch [200], Loss: 0.5181\n",
            "Epoch [2], Batch [300], Loss: 0.5335\n",
            "Epoch [2], Batch [400], Loss: 0.5427\n",
            "Epoch [2], Batch [500], Loss: 0.5098\n",
            "Epoch [2], Batch [600], Loss: 0.5099\n",
            "Epoch [2], Batch [700], Loss: 0.5084\n",
            "Epoch [3], Batch [100], Loss: 0.4468\n",
            "Epoch [3], Batch [200], Loss: 0.4482\n",
            "Epoch [3], Batch [300], Loss: 0.4395\n",
            "Epoch [3], Batch [400], Loss: 0.4314\n",
            "Epoch [3], Batch [500], Loss: 0.4259\n",
            "Epoch [3], Batch [600], Loss: 0.4001\n",
            "Epoch [3], Batch [700], Loss: 0.4112\n",
            "Epoch [4], Batch [100], Loss: 0.3829\n",
            "Epoch [4], Batch [200], Loss: 0.3746\n",
            "Epoch [4], Batch [300], Loss: 0.3545\n",
            "Epoch [4], Batch [400], Loss: 0.3658\n",
            "Epoch [4], Batch [500], Loss: 0.3631\n",
            "Epoch [4], Batch [600], Loss: 0.3948\n",
            "Epoch [4], Batch [700], Loss: 0.3375\n",
            "Epoch [5], Batch [100], Loss: 0.3291\n",
            "Epoch [5], Batch [200], Loss: 0.3125\n",
            "Epoch [5], Batch [300], Loss: 0.3340\n",
            "Epoch [5], Batch [400], Loss: 0.3306\n",
            "Epoch [5], Batch [500], Loss: 0.3070\n",
            "Epoch [5], Batch [600], Loss: 0.3197\n",
            "Epoch [5], Batch [700], Loss: 0.3188\n",
            "Epoch [6], Batch [100], Loss: 0.2976\n",
            "Epoch [6], Batch [200], Loss: 0.2866\n",
            "Epoch [6], Batch [300], Loss: 0.2910\n",
            "Epoch [6], Batch [400], Loss: 0.2791\n",
            "Epoch [6], Batch [500], Loss: 0.2888\n",
            "Epoch [6], Batch [600], Loss: 0.2842\n",
            "Epoch [6], Batch [700], Loss: 0.2920\n",
            "Epoch [7], Batch [100], Loss: 0.2416\n",
            "Epoch [7], Batch [200], Loss: 0.2531\n",
            "Epoch [7], Batch [300], Loss: 0.2427\n",
            "Epoch [7], Batch [400], Loss: 0.2613\n",
            "Epoch [7], Batch [500], Loss: 0.2731\n",
            "Epoch [7], Batch [600], Loss: 0.2859\n",
            "Epoch [7], Batch [700], Loss: 0.2584\n",
            "Epoch [8], Batch [100], Loss: 0.2195\n",
            "Epoch [8], Batch [200], Loss: 0.2315\n",
            "Epoch [8], Batch [300], Loss: 0.2286\n",
            "Epoch [8], Batch [400], Loss: 0.2380\n",
            "Epoch [8], Batch [500], Loss: 0.2411\n",
            "Epoch [8], Batch [600], Loss: 0.2441\n",
            "Epoch [8], Batch [700], Loss: 0.2608\n",
            "Epoch [9], Batch [100], Loss: 0.1977\n",
            "Epoch [9], Batch [200], Loss: 0.2181\n",
            "Epoch [9], Batch [300], Loss: 0.2118\n",
            "Epoch [9], Batch [400], Loss: 0.2170\n",
            "Epoch [9], Batch [500], Loss: 0.2047\n",
            "Epoch [9], Batch [600], Loss: 0.2101\n",
            "Epoch [9], Batch [700], Loss: 0.2029\n",
            "Epoch [10], Batch [100], Loss: 0.2038\n",
            "Epoch [10], Batch [200], Loss: 0.1870\n",
            "Epoch [10], Batch [300], Loss: 0.1900\n",
            "Epoch [10], Batch [400], Loss: 0.1898\n",
            "Epoch [10], Batch [500], Loss: 0.1953\n",
            "Epoch [10], Batch [600], Loss: 0.1775\n",
            "Epoch [10], Batch [700], Loss: 0.1941\n",
            "Finished Training\n"
          ]
        }
      ],
      "source": [
        "for epoch in range(10):\n",
        "\n",
        "    running_loss = 0.0\n",
        "    for i, data in enumerate(trainloader, 0):\n",
        "        inputs, labels = data\n",
        "        inputs, labels = inputs.to(device), labels.to(device)\n",
        "\n",
        "        optimizer.zero_grad()\n",
        "        outputs = alexnet(inputs)\n",
        "        loss = criterion(outputs, labels)\n",
        "        loss.backward()\n",
        "        optimizer.step()\n",
        "\n",
        "        running_loss += loss.item()\n",
        "        if i % 100 == 99:\n",
        "            print(f'Epoch [{epoch+1}], Batch [{i+1}], Loss: {running_loss / 100:.4f}')\n",
        "            running_loss = 0.0\n",
        "\n",
        "print('Finished Training')\n"
      ]
    },
    {
      "cell_type": "code",
      "execution_count": 6,
      "metadata": {
        "id": "xx78OPZVOjJx",
        "colab": {
          "base_uri": "https://localhost:8080/"
        },
        "outputId": "d137ee45-09a7-4eeb-edfe-0855369e7098"
      },
      "outputs": [
        {
          "output_type": "stream",
          "name": "stdout",
          "text": [
            "Accuracy of the network on the 10,000 test images: 88.38%\n"
          ]
        }
      ],
      "source": [
        "correct = 0\n",
        "total = 0\n",
        "with torch.no_grad():\n",
        "    for data in testloader:\n",
        "        images, labels = data\n",
        "        images, labels = images.to(device), labels.to(device)\n",
        "        outputs = alexnet(images)\n",
        "        _, predicted = torch.max(outputs.data, 1)\n",
        "        total += labels.size(0)\n",
        "        correct += (predicted == labels).sum().item()\n",
        "\n",
        "print(f'Accuracy of the network on the 10,000 test images: {100 * correct / total:.2f}%')\n"
      ]
    },
    {
      "cell_type": "code",
      "execution_count": 7,
      "metadata": {
        "id": "J4vkUpCxOpdW",
        "colab": {
          "base_uri": "https://localhost:8080/"
        },
        "outputId": "5a3d8a7f-61a0-4401-83be-6065eb6623d7"
      },
      "outputs": [
        {
          "output_type": "stream",
          "name": "stdout",
          "text": [
            "Accuracy of plane : 87.50%\n",
            "Accuracy of car : 94.40%\n",
            "Accuracy of bird : 86.20%\n",
            "Accuracy of cat : 73.20%\n",
            "Accuracy of deer : 92.00%\n",
            "Accuracy of dog : 82.50%\n",
            "Accuracy of frog : 91.60%\n",
            "Accuracy of horse : 89.90%\n",
            "Accuracy of ship : 96.30%\n",
            "Accuracy of truck : 91.80%\n"
          ]
        }
      ],
      "source": [
        "class_correct = list(0. for i in range(10))\n",
        "class_total = list(0. for i in range(10))\n",
        "\n",
        "with torch.no_grad():\n",
        "    for data in testloader:\n",
        "        images, labels = data\n",
        "        images, labels = images.to(device), labels.to(device)\n",
        "        outputs = alexnet(images)\n",
        "        _, predicted = torch.max(outputs, 1)\n",
        "        c = (predicted == labels).squeeze()\n",
        "        for i in range(len(labels)):\n",
        "            label = labels[i]\n",
        "            class_correct[label] += c[i].item()\n",
        "            class_total[label] += 1\n",
        "\n",
        "for i in range(10):\n",
        "    print(f'Accuracy of {classes[i]} : {100 * class_correct[i] / class_total[i]:.2f}%')\n"
      ]
    }
  ],
  "metadata": {
    "colab": {
      "provenance": [],
      "gpuType": "T4"
    },
    "kernelspec": {
      "display_name": "Python 3",
      "name": "python3"
    },
    "language_info": {
      "name": "python"
    },
    "accelerator": "GPU"
  },
  "nbformat": 4,
  "nbformat_minor": 0
}